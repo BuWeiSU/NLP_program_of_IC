{
  "nbformat": 4,
  "nbformat_minor": 0,
  "metadata": {
    "kernelspec": {
      "name": "python3",
      "display_name": "Python 3.7.3 64-bit ('base': conda)"
    },
    "language_info": {
      "codemirror_mode": {
        "name": "ipython",
        "version": 3
      },
      "file_extension": ".py",
      "mimetype": "text/x-python",
      "name": "python",
      "nbconvert_exporter": "python",
      "pygments_lexer": "ipython3",
      "version": "3.7.3"
    },
    "interpreter": {
      "hash": "9f25aa3db50942f5d89829adb58c57971f85cba430f6d2420543fb6540e8d4f5"
    },
    "colab": {
      "name": "8_18_word_representations.ipynb",
      "provenance": [],
      "collapsed_sections": []
    }
  },
  "cells": [
    {
      "cell_type": "markdown",
      "metadata": {
        "id": "BH_Oy6MsrHWz"
      },
      "source": [
        "# Word Representation in Biomedical Domain\n",
        "\n",
        "Before you start, please make sure you have read this notebook. You are encouraged to follow the recommendations but you are also free to develop your own solution from scratch. \n",
        "\n",
        "## Marking Scheme\n",
        "\n",
        "- Biomedical imaging project: 40%\n",
        "    - 20%: accuracy of the final model on the test set\n",
        "    - 20%: rationale of model design and final report\n",
        "- Natural language processing project: 40%\n",
        "    - 30%: completeness of the project\n",
        "    - 10%: final report\n",
        "- Presentation skills and team work: 20%\n",
        "\n",
        "\n",
        "This project forms 40\\% of the total score for summer school. The marking scheme of each part of this project is provided below with a cap of 100\\%.\n",
        "\n",
        "You are allowed to use open source libraries as long as the libraries are properly cited in the code and final report. The usage of third-party code without proper reference will be treated as plagiarism, which will not be tolerated.\n",
        "\n",
        "You are encouraged to develop the algorithms by yourselves (without using third-party code as much as possible). We will factor such effort into the marking process."
      ]
    },
    {
      "cell_type": "markdown",
      "metadata": {
        "id": "M-3FomssrHW3"
      },
      "source": [
        "## Setup and Prerequisites \n",
        "\n",
        "Recommended environment\n",
        "\n",
        "- Python 3.7 or newer\n",
        "- Free disk space: 100GB\n",
        "- tokenizer\n",
        "- gensim\n",
        "- scispacy\n",
        "- spacy\n",
        "Download the data\n",
        "\n",
        "```sh\n",
        "# navigate to the data folder\n",
        "cd data\n",
        "\n",
        "# download the data file\n",
        "# which is also available at https://www.semanticscholar.org/cord19/download\n",
        "wget https://ai2-semanticscholar-cord-19.s3-us-west-2.amazonaws.com/2021-07-26/document_parses.tar.gz\n",
        "\n",
        "# decompress the file which may take several minutes\n",
        "tar -xf document_parses.tar.gz\n",
        "\n",
        "# which creates a folder named document_parses\n",
        "```"
      ]
    },
    {
      "cell_type": "markdown",
      "metadata": {
        "id": "25WKcsOsrHW4"
      },
      "source": [
        "## Part 1 (20%): Parse the Data\n",
        "\n",
        "The JSON files are located in two sub-folders in `document_parses`. You will need to scan all JSON files and extract text (i.e. `string`) from relevant fields (e.g. body text, abstract, titles).\n",
        "\n",
        "You are encouraged to extract full article text from body text if possible. If the hardware resource is limited, you can extract from abstract or titles as alternatives. \n",
        "\n",
        "Note: The number of JSON files is around 425k so it may take more than 10 minutes to parse all documents.\n",
        "\n",
        "For more information about the dataset: https://www.semanticscholar.org/cord19/download\n",
        "\n",
        "Recommended output:\n",
        "\n",
        "- A list of text (`string`) extracted from JSON files."
      ]
    },
    {
      "cell_type": "code",
      "metadata": {
        "colab": {
          "base_uri": "https://localhost:8080/"
        },
        "id": "Ej0zliYpvz_z",
        "outputId": "6601a7c5-93c8-437d-a5ac-325afca8bab9"
      },
      "source": [
        "!wget https://ai2-semanticscholar-cord-19.s3-us-west-2.amazonaws.com/2021-07-26/document_parses.tar.gz\n",
        "!tar -xf document_parses.tar.gz"
      ],
      "execution_count": null,
      "outputs": [
        {
          "output_type": "stream",
          "text": [
            "--2021-08-19 03:50:48--  https://ai2-semanticscholar-cord-19.s3-us-west-2.amazonaws.com/2021-07-26/document_parses.tar.gz\n",
            "Resolving ai2-semanticscholar-cord-19.s3-us-west-2.amazonaws.com (ai2-semanticscholar-cord-19.s3-us-west-2.amazonaws.com)... 52.218.205.1\n",
            "Connecting to ai2-semanticscholar-cord-19.s3-us-west-2.amazonaws.com (ai2-semanticscholar-cord-19.s3-us-west-2.amazonaws.com)|52.218.205.1|:443... connected.\n",
            "HTTP request sent, awaiting response... 200 OK\n",
            "Length: 6533567228 (6.1G) [application/x-tar]\n",
            "Saving to: ‘document_parses.tar.gz’\n",
            "\n",
            "document_parses.tar 100%[===================>]   6.08G  21.6MB/s    in 4m 50s  \n",
            "\n",
            "2021-08-19 03:55:39 (21.5 MB/s) - ‘document_parses.tar.gz’ saved [6533567228/6533567228]\n",
            "\n"
          ],
          "name": "stdout"
        }
      ]
    },
    {
      "cell_type": "code",
      "metadata": {
        "id": "eGcZG8karkDg"
      },
      "source": [
        "!pip install tokenizers\n",
        "!pip install gensim\n",
        "!pip install --upgrade gensim"
      ],
      "execution_count": null,
      "outputs": []
    },
    {
      "cell_type": "code",
      "metadata": {
        "colab": {
          "base_uri": "https://localhost:8080/"
        },
        "id": "izqBwWg2rHW5",
        "outputId": "ccf7efaa-e99b-4e62-ab9c-c17a1fe4811b"
      },
      "source": [
        "from tokenizers import Tokenizer\n",
        "from tokenizers.models import BPE\n",
        "from tokenizers.pre_tokenizers import Whitespace\n",
        "\n",
        "import tensorflow as tf\n",
        "import os\n",
        "import json\n",
        "\n",
        "from sklearn.decomposition import IncrementalPCA    # inital reduction\n",
        "from sklearn.manifold import TSNE                   # final reduction\n",
        "import numpy as np                                  # array handling\n",
        "import matplotlib.pyplot as plt\n",
        "import random\n",
        "\n",
        "tokenizer = Tokenizer(BPE(unk_token=\"[UNK]\"))\n",
        "trainer = BpeTrainer(special_tokens=[\"[UNK]\", \"[CLS]\", \"[SEP]\", \"[PAD]\", \"[MASK]\"])\n",
        "tokenizer.pre_tokenizer = Whitespace()\n",
        "filelist = []#store all the file name in the present folder\n",
        "filelist_tol = []#store all the file name\n",
        "data = []\n",
        "pdf_num = 1000\n",
        "pmc_num = 1000\n",
        "g = os.walk(r\"/content/document_parses/pdf_json\")  #Traverse pdf_json folder, load files in it\n",
        "for path,dir_list,file_list in g:  \n",
        "    for file_name in file_list: \n",
        "        filelist.append(os.path.join(path,file_name))\n",
        "        if len(filelist)>pdf_num:\n",
        "            break\n",
        "\n",
        "\n",
        "filelist_tol = filelist_tol+ filelist[:]\n",
        " \n",
        "for file in filelist:  #add text of each paper into data\n",
        "    with open(file,'r') as f:\n",
        "        temdata = json.load(f)\n",
        "        text = \"\"\n",
        "        for part in temdata['body_text']:\n",
        "            text = text + part['text']\n",
        "        data.append(text)\n",
        "\n",
        "filelist = []\n",
        "g = os.walk(r\"/content/document_parses/pmc_json\")  #Traverse pmf_json folder, load files in it\n",
        "for path,dir_list,file_list in g:  \n",
        "    for file_name in file_list: \n",
        "        filelist.append(os.path.join(path,file_name))\n",
        "        if len(filelist)>pmc_num:\n",
        "            break\n",
        "filelist_tol = filelist_tol+ filelist[:]\n",
        "\n",
        "for file in filelist:  #add text of each paper into data\n",
        "    with open(file,'r') as f:\n",
        "        temdata = json.load(f)\n",
        "        text = \"\"\n",
        "        for part in temdata['body_text']:\n",
        "            text = text + part['text']\n",
        "        data.append(text)\n",
        "print(data[:1])"
      ],
      "execution_count": 88,
      "outputs": [
        {
          "output_type": "stream",
          "text": [
            "['One year into the COVID-19 pandemic, the outlook is disheartening. The World Health Organization reported, on 27 February 2021, almost 113 million confirmed cases worldwide, with more than 2.5 million deaths (global mortality rate of 2.2 per 100 inhabitants). In this regard, the Americas and Europe are the regions with the highest number of infections, and the United States has had more than 28 million confirmed cases with more than 500 thousand deaths from this cause. Consequently, this global infection has had a strong impact regarding decision-making in clinical oncology. It is particularly important to determine if decision-making in oncology clinical is ethical in the COVID-19 context.In this viewpoint, we address two crucial dilemmas from the ethical dimension: (1) Is it ethical to postpone or suspend cancer treatments which offer a statistically significant benefit in the quality of life and survival in cancer patients during this time of pandemic?;(2) Should we vaccinate cancer patients against COVID-19 if scientific studies have not included this subgroup of patients?Regarding the first question, the best available evidence shows that:(a) A systemic review (n = 52 studies with 18,650 cases) revealed that patients with cancer and COVID-19 infection had a higher mortality than the general infected population without cancer (mortality of 25.6 per 100 inhabitants). Cancer is an independent risk factor for mortality (especially hematologic malignancies and lung cancer). Other risk factors are age, the male gender, the black race, current smoking habit, and comorbidities [1] ; (b) A single-center, retrospective, observational study (n = 309 cases) showed that in patients with cancer who are COVID-19-positive, cytotoxic chemotherapy administered within 5 weeks of the diagnosis of viral infection does not significantly increase the rate of events which are serious or critical for COVID-19. In contrast, the presence of hematological neoplasms, lung cancer, lymphopenia at the time of diagnosis of COVID-19 infection, and initial neutropenia (14 to 90 days prior to diagnosis of this viral infection) are significantly associated with a higher rate of critical or serious events due to this infection [2] ; (c) A prospective observational study (n = 800 cases) showed that in cancer patients who test positive for COVID-19 (through RT-PCR in nose or throat smears), after adjusting for other risk factors, patients who underwent cytotoxic chemotherapy showed no significant effect on mortality versus cancer and COVID-19-positive patients who did not receive chemotherapy. It should be noted that neither adjuvant chemotherapy nor palliative chemotherapy showed any significantly higher mortality within 4 weeks of the infection diagnosis versus the group that received no treatment. When comparing recent first-line palliative chemotherapy versus second-or third-line chemotherapy, mortality did not vary significantly in cancer patients who were COVID-19-positive. There was also no significant difference in mortality with respect to immunological therapy, hormonal therapy, radiotherapy, and target therapies between the group that received early treatment versus those who did not [3] ; (d) The suspension or delay in cancer therapy during this pandemic, based on a supposed greater possibility of harm to the patient, is a reality. For example, in the previous study, treatment was interrupted due to the current pandemic situation in 22% of patients (n = 172 cases) [3] . In a prospective study in COVID-19-negative lung cancer patients (n = 211 cases), it was determined that palliative chemotherapy was delayed in 39.7% of cases due to the pandemic, was interrupted in 14.9%, and was definitively stopped in 3% [4, 5] .Regarding the second question, the epidemiological course of this infection shows that hygienic and isolation measures, although necessary, are not sufficient to control the epidemic. Mass immunization measures are required. Therein, the FDA hastened the approval of messenger RNA vaccines (BNT162b2 and mRNA-1273) and the Ad26.COV2.SCOVID-19 vaccine (recombinant replication-incompetent adenovirus serotype Ad26 vector encoding a full-length and stabilized SARS-Cov-2 spike protein).From the analysis of the best available evidence, the BNT162b2 vaccine shows 95% efficacy in preventing symptomatic infection. Furthermore, efficacy is similar in subgroup analyses defined by age, sex, race, ethnicity, baseline body mass index, and comorbidities; the safety of this vaccine is similar to other viral vaccines [6] .The mRNA-1273 vaccine is 94.1% effective in preventing symptomatic infection. This efficacy was consistent across all stratified subgroups (by age, sex, race, ethnicity, and high-risk groups for severe infection) and presented acceptable level of safety [7] .The Ad26.COV2.SCOVID-19 vaccine shows high level of safety and reactogenicity in healthy cases of different ages [8] . The interim analysis assessed 468 cases of symptomatic COVID-19 among 44,325 adult volunteers in South America, South Africa and the United States. The investigational vaccine was reportedly 66% effective at preventing the study\\'s combined endpoints of moderate and severe COVID-19 at 28 days post-vaccination among all volunteers, including those infected with an emerging viral variant (press release, 29 January 2021).In this regard, the American Cancer Society recommends that patients with (or who have had) cancer receive the vaccine as soon as it becomes available. However, the studies do not include subgroups with cancer patients. Therefore, it is worth considering whether it is ethical to administer this therapy in cancer patients, without clear scientific evidence on the efficacy and adverse effects of these vaccines in this group of patients.Regarding the first question, we present the following analysis: First itemThe ethics of Beauchamp and Childress postulate four basic principles to know: autonomy, beneficence, non-maleficence, and justice [9] .That said, considering Diego Garcia\\'s hierarchy of ethical principles, we have the ethics of minimums (accounting for the public dimension of humans in their relationships with others, required in all circumstances), which encompasses the principle of non-maleficence and justice. At a lower level, we find that the ethics of maximums (which account for the private sphere, not required at all times) and its principles are beneficence and autonomy [10] .If we apply these principles, starting from the higher (principles of the ethics of minimums) to the subordinate level (principles of the ethics of maximums), and consider the problem at hand, it follows that:(a) Non-maleficence: understood as not causing harm voluntarily. Evidence shows that when chemotherapy is administered early in cancer patients who are COVID-19positive, this does not increase the risk of severe morbidity from this infection, nor does it increase mortality. Therefore, it is malicious to delay adjuvant, neoadjuvant, or palliative treatment that has been shown to improve the quality of life and survival in cancer patients. We only increase the risk of increasing morbidity and mortality from the underlying neoplastic disease, managing to do harm by omission. It is understood that we are referring to treatments which have demonstrated clinical benefit. On the other hand, if, and only if, the chemotherapy in question does not improve the patient\\'s quality of life and survival with certainty versus placebo, then the suspension of the therapy would be legitimate. It must be emphasized that at the beginning of the pandemic, the behavior of the virus was unknown, and it was therefore legitimate to delay chemotherapy. However, now, in light of current knowledge, it is not. Additionally, lack of knowledge is not an excuse, because health practice essentially involves continuous training and study; (b) Justice: understood as providing each person with what they are entitled or deserve, corresponding in equity or merit. Delaying or stopping chemotherapy which has been shown to be beneficial because of the pandemic only violates this principle. With justice, these patients must receive their treatment in a timely manner, without delay or suspension; (c) Beneficence: understood as any action that seeks to do good. If effective therapy is suspended or delayed without justifiable scientific evidence (as we have previously shown), we violate this principle by omission without justification. Every bioethical decision must be supported by the evidence. Additionally, the evidence does not support suspending or delaying treatment which has a clinical benefit; (d) Autonomy: related to the capacity of each person to decide freely. Any true choice must be based on solid information. Therefore, the oncologist must explain to the patient the benefits and risks of undergoing chemotherapy during this pandemic. The objective will be to listen to the patient, clarify their doubts, and dispel the unfounded myths regarding oncology, chemotherapy, and this infection. Only then will the patient be able to decide freely.Regarding the second question, we present the following analysis: Second item We will address two ethical views:(a) Utilitarian ethics: in public health, the R 0 (basic reproductive ratio) measures the speed with which an infection spreads in a given population (R 0 = transmission rate/recovery rate) [11] . Additionally, in order to control this pandemic, it is necessary to reduce the effective R 0 , through herd immunity, by vaccinating at least 60% to 70% of the population. In fact, in view of the increased transmissibility of the infection, it may be necessary to vaccinate 80% to 85% of the population.Utilitarianism is a moral philosophy that states that all action should seek the maximum welfare for the maximum number of people [12] . Thus, it would be lawful to vaccinate the largest number of people (including cancer patients) in order to achieve the greatest good (control the pandemic) for the largest number of people (the general population).We believe that a utilitarian analysis is not sufficient to determine whether or not it is ethical to vaccinate cancer patients without supporting scientific evidence. These patients have a weakened immune system (due to the neoplastic disease itself and the treatments they receive such as chemotherapy and radiotherapy); their immune response to vaccines may be lower than that of the general population. Thus, we do not know to what extent the vaccination will be effective in cancer patients and will therefore contribute to reducing the spread of the infection.(b) Double-effect principle: known as a principle of practical reasoning that helps determine the lawfulness of an action that produces (or can produce) two effects, one good and the other bad [13] .We will now analyze the conditions that allow us to apply this principle to our particular case:(1) The purpose of the act to be pursued must be good: the action is the vaccination of the cancer population and its objective is to prevent symptomatic infection (beneficial objective); (2) The intention of one who acts must be good and excludes (does not wish, but tolerates) the bad effect that will result from the action: without a doubt, the intention of the one who indicates and the one who proceeds to vaccinate is beneficial.Adverse effects of vaccines (which should be tolerated) in the general population are usually mild to moderate, local and transient. In cancer patients, they are not yet known. However, messenger RNA vaccines and Ad26.COV2.SCOVID-19 vaccine have no risk of producing COVID-19 infection and no hyperinflammatory response syndromes have been observed in immune-deficient human models;(3) The action itself must be good or indifferent: a systemic review and meta-analysis (n = 17 observational studies including 3268 cases) showed that cancer patients have a higher risk of dying from this viral infection (risk of 24.8 per 100 inhabitants versus 2.2 per 100 inhabitants in the general population). Within this group, the male sex, age over 65 years, comorbidities (especially high blood pressure and chronic obstructive pulmonary disease) and respiratory symptoms (dyspnea, cough and sputum) are described as risk factors for mortality [14] . Furthermore, it is also known that severe or critical COVID-19 events are more frequent in cancer patients than in the general population. Thus, the action of vaccinating is essentially good because it seeks to prevent severe morbidity and increased mortality from COVID-19 infection in this higher-risk population; (4) There must be a proportionally serious reason to accept the act, i.e., the benefit that is expected to be obtained from the action must be much greater than the damage that the action may produce.Currently, there is no evidence in scientific studies on the real efficacy of messenger RNA vaccines and Ad26.COV2.SCOVID-19 vaccine in cancer patients. However, in the mRNA-1273 vaccine study, the subgroup with diabetes showed similar efficacy to the general population [7] . We know that diabetic patients have a dysfunctional immune system [15] . Therefore, it can be inferred that benefit will also be found in the oncological subgroup (which, by definition, has a weakened immune system).The adverse effects of these vaccines in cancer cases are also unknown. However, in a retrospective study (n = 370 cases), inactivated influenza virus vaccine administered to cancer patients treated with immunotherapy did not increase new-onset immune-related adverse events [16] . By extrapolation, it can be inferred that cancer patients will not have much greater or more serious adverse events with anti-COVID-19 vaccines than the general population.Thus, in cancer patients, the potential benefits of vaccination far outweigh the potential adverse events;(5) Absence of better actions that cause less damage: at present, neither hygienic measures nor physical isolation have been able to stop the advance of the pandemic. Physical isolation is not innocuous. The psychological/social damage to individuals families and the deterioration of the economy is significant. Therefore, there is no better alternative than vaccination.There is certain controversy about the validity of the double-effect doctrine in the clinical ethics context. Ezio Di Nucci presented eight classic arguments against this principle [17] . On the other hand, Jean Pierre Gury defended this ethical reasoning based on the principle of non-imputability of the direct agent in which one of the two effects (the evil one) is not directly intended [18] . Warren Quinn also defended this principle, pointing out that the difference between direct and indirect harmful agency is what underlies the moral significance of the difference between intended and merely predicted harms [19] . He thinks that \"some cases of harming that the doctrine intuitively speaks against are arguably not cases of intentional harming, precisely because neither the harm itself (nor anything itself causally very close to it) is intended\" [20] .Lawrence Masek also defended the principle of double-effect, based on the so-called strict definition of intention. The author argues that the moral permissibility of an action depends at least in part on how it forms the agent\\'s character [21] .Regarding our particular case, the main criticisms of the double-effect principle are based on the possible absence of simultaneity of both effects, the consequentialism [22, 23] , and the problem of proximity [24] . Let us analyze these potential issuespoint-by-point:(1) Due to it being un ethical to use an evil means to later obtain a good effect, the simultaneity of both effects resulting from the same action is a crucial point to be clarified. In our particular case, the vaccination of cancer patients has a beneficial effect (the potential decrease in morbidity and mortality from COVID-19) and a malefic effect (the potential adverse effect in this population), which are both simultaneous. The beneficial effect is not a consequence of the malefic effect; (2) Consequentialism states that the moral value of an action depends exclusively on its consequence [22, 23] . However, we think every action has an intrinsic moral value [25] . This is certainly true for the case of vaccinating cancer patients; (3) The problem of proximity describes the evil result that the action attempts and the anticipated negative consequences as indistinguishable. However, the motivation of the agent of the action has no intention of causing an evil effect, but anticipates it. It is only tolerated if the good obtained is proportionally greater than the evil that maybe produced.On the other hand, the main strengths of the double-effect principle applied to our particular case are the following:(1) The determination of the proportionality relationship between the beneficial effect and the malefic effect; (2) This principle considers the absence of alternatives actions that cause less damage.These strengths support the double-effect principle as a valid ethical reasoning that favors decision-making on the vaccination of cancer patients during this pandemic.Is it ethical to postpone or suspend cancer treatments which offer a statistically significant benefit in the quality of life and survival in cancer patients during this pandemic? Despite the pandemic, based on the best available evidence, it is unethical to postpone or suspend adjuvant, neoadjuvant, or palliative chemotherapy treatments (or immunological therapy, hormonal therapy, radiotherapy, and target therapies) which have demonstrated a statistically significant benefit in terms of the quality of life and survival in cancer patients. However, the bioethics are based on virtue. Additionally, the virtue of prudence is very important. The fact that a patient regularly attends a chemotherapy center increases the risk of contagion during this pandemic. Additionally, the mortality rate is higher in infected cancer patients. Therefore, all necessary precautions must be taken to reduce a patient\\'s risk of contagion when attending a healthcare center. Measures such as the personalized transport of patients, the disinfection of all surfaces in transport vehicles and the chemotherapy room, the use of masks and their frequent replacement, maintaining a distance of at least 1.5 m, frequent hand washing, etc., should all be considered.Should we vaccinate cancer patients against COVID-19 if scientific studies have not included this subgroup of patients? In conclusion, considering the principle of doubleeffect, it is lawful and ethical to vaccinate the cancer population. The autonomy and decision of the patient should be always respected (who has been previously well-informed by their treating oncologist). Now, we point out three relevant facts:(1) The efficacy of messenger RNA vaccines and Ad26.COV2.SCOVID-19 vaccine in cancer patients is not yet known; (2) We do not know the percentage of protection from asymptomatic infection in the general population; (3) The vaccines developed against the original virus have been found to be less effective against variant viral B.1.351 (this variant contains the E484K mutation that has caused so much concern in B.1.351. This mutation is thought to allow the virus to escape from some of the body\\'s immune response) [26] .Therefore, maintaining hygiene and distancing should continue to be respected for the time being.Finally, we mention that one limitation of the present article corresponds to the absence of other relevant ethical dilemmas in the context of comprehensive cancer treatment in times of the COVID-19 pandemic. We leave this task for future work.']\n"
          ],
          "name": "stdout"
        }
      ]
    },
    {
      "cell_type": "markdown",
      "metadata": {
        "id": "oKqr848PrHW6"
      },
      "source": [
        "## Part 2 (30%): Tokenization\n",
        "\n",
        "Traverse the extracted text and segment the text into words (or tokens).\n",
        "\n",
        "The following tracks can be developed in independentely. You are encouraged to divide the workload to each team member.\n",
        "\n",
        "Recommended output:\n",
        "\n",
        "- Tokenizer(s) that is able to tokenize any input text.\n",
        "\n",
        "Note: Because of the computation complexity of tokenizers, it may take hours/days to process all documents. Which tokenizer is more efficient? Any idea to speedup?\n",
        "\n",
        "### Track 2.1 (10%): Use split()\n",
        "\n",
        "Use the standard `split()` by Python.\n",
        "\n",
        "### Track 2.2 (10%): Use NLTK or SciSpaCy\n",
        "\n",
        "NLTK tokenizer: https://www.nltk.org/api/nltk.tokenize.html\n",
        "\n",
        "SciSpaCy: https://github.com/allenai/scispacy\n",
        "\n",
        "Note: You may need to install NLTK and SpaCy so please refer to their websites for installation instructions.\n",
        "\n",
        "### Track 2.3 (10%): Use Byte-Pair Encoding (BPE)\n",
        "\n",
        "Byte-Pair Encoding (BPE): https://huggingface.co/transformers/tokenizer_summary.html\n",
        "\n",
        "Note: You may need to install Huggingface's transformers so please refer to its website for installation instructions.\n",
        "\n",
        "\n",
        "### Track 2.4 (Bonus +5%): Build new Byte-Pair Encoding (BPE)\n",
        "\n",
        "This track may be dependent on track 2.3.\n",
        "\n",
        "The above pre-built tokenization methods may not be suitable for biomedical domain as the words/tokens (e.g. diseases, sympotoms, chemicals, medications, phenotypes, genotypes etc.) can be very different from the words/tokens commonly used in daily life. Can you build and train a new BPE model for biomedical domain in particular?\n",
        "\n",
        "### Open Question (Optional):\n",
        "\n",
        "- What are the pros and cons of the above tokenizers?"
      ]
    },
    {
      "cell_type": "code",
      "metadata": {
        "colab": {
          "base_uri": "https://localhost:8080/"
        },
        "id": "zvBwzDyVPVjU",
        "outputId": "a9dc7f01-2fe4-4bec-95cd-85d5c76e6387"
      },
      "source": [
        "#use split() to tokenization, used in the mission\n",
        "data_split = []\n",
        "for piece in data:\n",
        "    if(len(piece)>0):\n",
        "        data_split.append(piece.split())\n",
        "        data.remove(piece)\n",
        "print(data_split[1:2])"
      ],
      "execution_count": 107,
      "outputs": [
        {
          "output_type": "stream",
          "text": [
            "[['The', 'COVID-19', 'pandemic', 'dynamics', 'in', 'Qatar', 'was', 'simulated', 'with', 'the', 'use', 'of', 'SEIR-model', '(susceptible-exposed-infected-removed)', '[1]', 'and', 'SEIRD-model', '(susceptible-exposed-infected-removeddead)', '[2]', '.', 'Some', 'recent', 'SIR-simulations', '[3,', '4]', 'were', 'based', 'on', 'the', 'datasets', 'about', 'the', 'number', 'of', 'cases', 'in', 'December', '2020', 'and', 'April', '25', '-May', '8,', '2021', 'available', 'in', 'COVID-19', 'Data', 'Repository', 'by', 'the', 'Center', 'for', 'Systems', 'Science', 'and', 'Engineering', '(CSSE)', 'at', 'Johns', 'Hopkins', 'University', '(JHU),', '[5]', '.', 'In', 'particular,', 'the', 'incompleteness', 'of', 'the', 'statistical', 'information', 'has', 'been', 'taken', 'into', 'account', 'in', '[4]', 'with', 'the', 'use', 'of', 'method', 'proposed', 'in', '[6]', '.', 'It', 'was', 'shown', 'that', 'the', 'actual', 'accumulated', 'number', 'of', 'COVID-19', 'cases', 'may', 'exceed', 'the', 'laboratory-confirmed', 'number', 'of', 'cases', 'registered', 'in', 'Qatar', 'more', 'than', '5', 'times.', 'Comparison', 'with', 'the', 'corresponding', 'SIR-curves', 'has', 'showed', 'that', 'the', 'effect', 'of', 'mass', 'vaccination', 'was', 'not', 'evident', 'during', '4', 'months', 'after', 'its', 'onset', 'in', 'December', '2020,', '[4]', '.', 'In', 'this', 'study,', 'we', 'will', 'follow', 'the', 'epidemic', 'in', 'Qatar', 'until', 'mid-June', '2021', 'in', 'order', 'to', 'verify', 'the', 'predictions', 'and', 'to', 'investigate', 'the', 'impact', 'of', 'vaccination.', 'All', 'rights', 'reserved.', 'No', 'reuse', 'allowed', 'without', 'permission.(which', 'was', 'not', 'certified', 'by', 'peer', 'review)', 'is', 'the', 'author/funder,', 'who', 'has', 'granted', 'medRxiv', 'a', 'license', 'to', 'display', 'the', 'preprint', 'in', 'perpetuity.', 'We', 'will', 'use', 'tree', 'data', 'sets', 'regarding', 'the', 'accumulated', 'numbers', 'of', 'confirmed', 'COVID-19', 'cases', 'V', 'j', ',', 'number', 'of', 'vaccinated', 'people', 'P', 'j', 'and', 'number', 'of', 'vaccinations', 'Q', 'j', 'in', 'Qatar', 'from', 'JHU,', '[5]', '.', 'These', 'values', 'and', 'corresponding', 'moments', 'of', 'time', 't', 'j', '(measured', 'in', 'days)', 'are', 'shown', 'in', 'Table', '1', '.', 'For', 'SIR-simulations,', 'the', 'values', 'of', 'V', 'j', 'and', 't', 'j', 'corresponding', 'to', 'the', 'time', 'period:', 'April', '25', '-May', '8,', '2021', 'were', 'used', 'in', '[4]', '.', 'The', 'values', 'presented', 'in', 'Table', '1', 'and', 'datasets', 'available', 'in', '[4]', 'were', 'used', 'only', 'for', 'monitoring', 'the', 'changes', 'in', 'epidemic', 'dynamics,', 'which', 'can', 'be', 'caused', 'by', 'vaccination,', 'changes', 'in', 'quarantine', 'restrictions,', 'emergence', 'of', 'new', 'strains', 'of', 'the', 'pathogen,', 'etc.', 'To', 'control', 'these', 'changes', 'and', 'to', 'identify', 'the', 'epidemic', 'waves,', 'we', 'can', 'use', 'daily', 'or', 'weekly', 'numbers', 'of', 'new', 'cases', 'and', 'their', 'derivatives', '(see,', 'e.g.,', '[7]', '[8]', '[9]', ').', 'Since', 'these', 'values', 'All', 'rights', 'reserved.', 'No', 'reuse', 'allowed', 'without', 'permission.(which', 'was', 'not', 'certified', 'by', 'peer', 'review)', 'is', 'the', 'author/funder,', 'who', 'has', 'granted', 'medRxiv', 'a', 'license', 'to', 'display', 'the', 'preprint', 'in', 'perpetuity.The', 'copyright', 'holder', 'for', 'this', 'preprint', 'this', 'version', 'posted', 'June', '22,', '2021.', ';', 'https://doi.org/10.1101/2021.06.16.21259018', 'doi:', 'medRxiv', 'preprint', 'are', 'random,', 'we', 'need', 'some', 'smoothing', '(especially', 'for', 'daily', 'amounts,', 'which', 'are', 'also', 'characterized', 'by', 'some', 'weekly', 'periodicity).', 'For', 'example,', 'we', 'can', 'use', 'the', 'smoothed', 'daily', 'number', 'of', 'accumulated', 'cases:The', 'first', 'and', 'second', 'derivatives', 'can', 'be', 'estimated', 'with', 'the', 'use', 'of', 'following', 'formulas:In', '[3,', '4]', 'the', 'generalized', 'SIR-model', 'and', 'the', 'exact', 'solution', 'of', 'the', 'set', 'of', 'non-linear', 'differential', 'equations', 'relating', 'the', 'number', 'of', 'susceptible', 'S,', 'infectious', 'I', 'and', 'removed', 'persons', 'R', 'were', 'used', 'in', 'order', 'to', 'simulate', 'different', 'epidemic', 'waves', '(see,', 'e.g.,', '[6,', '10]', ').', 'This', 'solution', 'uses', 'the', 'functioncorresponding', 'to', 'the', 'number', 'of', 'victims', 'or', 'the', 'cumulative', 'confirmed', 'number', 'of', 'cases.', 'Its', 'derivative:yields', 'the', 'estimation', 'of', 'the', 'average', 'daily', 'number', 'of', 'new', 'cases', '.', 'When', 'the', 'registered', 'number', 'of', 'victims', 'V', 'j', 'is', 'a', 'random', 'realization', 'of', 'its', 'theoretical', 'dependence', '(4),', 'the', 'exact', 'solution', 'presented', 'in', '[6,', '10]', 'depends', 'on', 'five', 'parameters', '(', 'i', '\\uf061', 'is', 'one', 'of', 'them,', 'i', 'is', 'the', 'number', 'of', 'the', 'epidemic', 'wave).', 'The', 'details', 'of', 'the', 'optimization', 'procedure', 'for', 'their', 'identification', 'can', 'be', 'found', 'in', '[6,', '11]', '.If', 'we', 'assume,', 'that', 'data', 'set', 'V', 'j', 'is', 'incomplete', 'and', 'there', 'is', 'a', 'constant', 'coefficient', '1', 'i', '\\uf062', '\\uf0b3', ',', 'relating', 'the', 'registered', 'and', 'real', 'number', 'of', 'cases', 'during', 'the', 'i-th', 'epidemic', 'wave:All', 'rights', 'reserved.', 'No', 'reuse', 'allowed', 'without', 'permission.(which', 'was', 'not', 'certified', 'by', 'peer', 'review)', 'is', 'the', 'author/funder,', 'who', 'has', 'granted', 'medRxiv', 'a', 'license', 'to', 'display', 'the', 'preprint', 'in', 'perpetuity.The', 'copyright', 'holder', 'for', 'this', 'preprint', 'this', 'version', 'posted', 'June', '22,', '2021.', ';', 'https://doi.org/10.1101/2021.06.16.21259018', 'doi:', 'medRxiv', 'preprint', 'the', 'number', 'of', 'unknown', 'parameters', 'increases', 'by', 'one.', 'The', 'values', 'V', 'j', ',', 'corresponding', 'to', 'the', 'moments', 'of', 'time', 't', 'j', 'from', 'the', 'period', 'April', '25', '-May', '8,', '2021', 'have', 'been', 'used', 'in', '[4]', 'to', 'find', 'the', 'optimal', 'values', 'of', 'these', 'parameters', 'corresponding', 'to', 'the', 'third', 'epidemic', 'wave', 'in', 'Qatar.', 'In', 'particular,', 'the', 'optimal', 'value', 'of', 'the', 'visibility', 'coefficient', '3', '5.308', '\\uf062', '\\uf03d', 'was', 'calculated.The', 'results', 'of', 'SIR', 'simulations', 'performed', 'in', '[4]', 'Table', '1', ')', 'and', 'vaccinated', 'persons', '(green,', 'Table', '1', ').-the', 'red', 'solid', 'line;', 'numbers', 'of', 'infected', 'and', 'spreading', 'I(t)', 'multiplied', 'by', '10', '-dashed;', 'derivative', 'dV/dt', '(eq.', '(5))', 'multiplied', 'by', '100', '-dotted,', '[4]', '.', 'Markers', 'show', 'accumulated', 'numbers', 'of', 'laboratory-confirmed', 'cases', 'V', 'j', '(from', 'Table', '1', 'and', '[4]', ')', 'and', 'derivatives.', 'Red', '\"circles\"', 'correspond', 'to', 'the', 'accumulated', 'numbers', 'of', 'cases', 'taken', 'in', '[4]', 'for', 'calculations', 'of', 'the', 'third', 'wave;', 'blue', '\"stars\"', '-number', 'of', 'cases', 'beyond', 'this', 'period.', '\"Crosses\"', 'show', 'the', 'values', 'of', 'the', 'first', 'derivative', '(eq.', '(2))', 'multiplied', 'by', '3', '100\\uf062', '.', 'The', 'blue', 'solid', 'line', 'represents', 'smoothed', 'accumulated', 'number', 'of', 'laboratory-confirmed', 'cases', '(1)', 'multiplied', 'by', '3', '\\uf062', '.', 'All', 'rights', 'reserved.', 'No', 'reuse', 'allowed', 'without', 'permission.(which', 'was', 'not', 'certified', 'by', 'peer', 'review)', 'is', 'the', 'author/funder,', 'who', 'has', 'granted', 'medRxiv', 'a', 'license', 'to', 'display', 'the', 'preprint', 'in', 'perpetuity.', 'To', 'illustrate', 'the', 'accuracy', 'of', 'calculations,', 'the', 'real', 'accumulated', 'number', 'of', 'laboratory', 'confirmed', 'cases', 'V', 'j', 'form', 'Table', '1', 'and', 'Table', '1', 'in', '[4]', 'was', 'smoothed', 'with', 'the', 'use', 'of', '(1)', 'and', 'multiplied', 'by', 'the', '\"visibility\"', 'coefficient', '3', '5.308', '\\uf062', '\\uf03d', ',', 'calculated', 'in', '[4]', '.', 'The', 'result', 'is', 'shown', 'in', 'the', 'figure', 'by', 'the', 'solid', 'blue', 'line', 'and', 'is', 'in', 'very', 'good', 'agreement', 'with', 'the', 'theoretical', 'estimation', '(4)', 'obtained', 'in', '[4]', 'and', 'shown', 'by', 'the', 'solid', 'red', 'line.', 'We', 'have', 'calculated', 'also', 'the', 'first', 'derivative', '(2)', '[4]', ').', 'The', 'actual', 'number', 'of', 'cases', 'may', 'increase', 'during', 'this', 'rather', 'long', 'period', '(from', 'June', '13,', '2021)', 'by', '70,000', '(the', 'number', 'of', 'new', 'registered', 'cases', 'will', 'be', 'about', 'five', 'times', 'less).', 'The', 'government', 'should', 'closely', 'monitor', 'the', 'average', 'daily', 'number', 'of', 'cases', 'and', 'its', 'derivative', '(which', 'can', 'be', 'calculated', 'by', 'formulas', '(1)-(3))', 'and', 'immediately', 'intensify', 'quarantine', 'measures', 'in', 'case', 'of', 'their', 'increase.']]\n"
          ],
          "name": "stdout"
        }
      ]
    },
    {
      "cell_type": "code",
      "metadata": {
        "id": "ow4GiEgOrHW7"
      },
      "source": [
        "#use nltk to tokenization, tried not used\n",
        "import nltk\n",
        "data_split = [] #record data after split\n",
        "for piece in data:\n",
        "    if(len(piece)>0):\n",
        "        data_split.append(piece.split())\n",
        "        data.remove(piece)\n",
        "        "
      ],
      "execution_count": 49,
      "outputs": []
    },
    {
      "cell_type": "code",
      "metadata": {
        "id": "Ee4cmkk6PUxk"
      },
      "source": [
        "#use BPE to tokenization, tried not used\n",
        "from tokenizers.trainers import BpeTrainer\n",
        "data_split = []#record data after split\n",
        "files = filelist1\n",
        "tokenizer.train(files, trainer)\n",
        "\n",
        "for piece in data:\n",
        "    if(len(piece)>0):\n",
        "        output = tokenizer.encode(piece)\n",
        "        data_split.append(output.tokens)\n",
        "        data.remove(piece)\n",
        "print(data_split[:3])"
      ],
      "execution_count": null,
      "outputs": []
    },
    {
      "cell_type": "markdown",
      "metadata": {
        "id": "Ed6c_ct6rHW8"
      },
      "source": [
        "## Part 3 (30%): Build Word Representations\n",
        "\n",
        "Build word representations for each extracted word. If the hardware resource is limited, you may limit the vocabulary size up to 10k words/tokens (or even smaller) and the dimension of representations up to 256.\n",
        "\n",
        "The following tracks can be developed independently. You are encouraged to divide the workload to each team member.\n",
        "\n",
        "### Track 3.1 (15%): Use N-gram Language Modeling\n",
        "\n",
        "N-gram Language Modeling is to predict a target word by using `n` words from previous context. Specifically,\n",
        "\n",
        "$P(w_i | w_{i-1}, w_{i-2}, ..., w_{i-n+1})$\n",
        "\n",
        "For example, given a sentence, `\"the main symptoms of COVID-19 are fever and cough\"`, if $n=7$, we use previous context `[\"the\", \"main\", \"symptoms\", \"of\", \"COVID-19\", \"are\"]` to predict the next word `\"fever\"`.\n",
        "\n",
        "More to read: https://web.stanford.edu/~jurafsky/slp3/3.pdf\n",
        "\n",
        "Recommended outputs:\n",
        "\n",
        "- A fixed vector for each word/token.\n",
        "```\n",
        "model = FastText(sentences=data_split, vector_size=50, window=5, min_count=10, workers=4,sg = 1,negative=8) \n",
        "#需要提前安装gensim，利用其提供的FastText完成基于字母的ngram\n",
        "```\n",
        "\n",
        "### Track 3.2 (15%): Use Skip-gram with Negative Sampling\n",
        "\n",
        "In skip-gram, we use a central word to predict its context. Specifically,\n",
        "\n",
        "$P(w_{c-m}, ... w_{c-1}, w_{c+1}, ..., w_{c+m} | w_c)$\n",
        "\n",
        "As the learning objective of skip-gram is computational inefficient (summation of entire vocabulary $|V|$), negative sampling is commonly applied to accelerate the training.\n",
        "\n",
        "In negative sampling, we randomly select one word from the context as a positive sample, and randomly select $K$ words from the vocabulary as negative samples. As a result, the learning objective is updated to\n",
        "\n",
        "$L = -\\log\\sigma(u^T_{t} v_c) - \\sum_{k=1}^K\\log\\sigma(-u^T_k v_c)$, where $u_t$ is the vector embedding of positive sample from context, $u_k$ are the vector embeddings of negative samples, $v_c$ is the vector embedding of the central word, $\\sigma$ refers to the sigmoid function.\n",
        "\n",
        "More to read http://web.stanford.edu/class/cs224n/readings/cs224n-2019-notes01-wordvecs1.pdf section 4.3 and 4.4\n",
        "\n",
        "Recommended outputs:\n",
        "\n",
        "- A fixed vector for each word/token.\n",
        "```\n",
        "model = Word2Vec(sentences=data_split, vector_size=50, window=5, min_count=10, workers=4,sg = 1,negative=8) \n",
        "#需要提前安装gensim，利用其提供的skip-gram接口\n",
        "```\n",
        "\n",
        "\n",
        "### Track 3.3 (Bonus +5%): Use Contextualised Word Representation by Masked Language Model (MLM)\n",
        "\n",
        "BERT introduces a new language model for pre-training named Masked Language Model (MLM). The advantage of MLM is that the word representations by MLM will be contextualised.\n",
        "\n",
        "For example, \"stick\" may have different meanings in different context. By N-gram language modeling and word2vec (skip-gram, CBOW), the word representation of \"stick\" is fixed regardless of its context. However, MLM will learn the representation of \"stick\" dynamatically based on context. In other words, \"stick\" will have different representations in different context by MLM.\n",
        "\n",
        "More to read: http://jalammar.github.io/illustrated-bert/ and https://arxiv.org/pdf/1810.04805.pdf\n",
        "\n",
        "Recommended outputs:\n",
        "\n",
        "- An algorithm that is able to generate contextualised representation in real time.\n",
        "\n",
        "```\n",
        "from simpletransformers.language_representation import RepresentationModel\n",
        "model = RepresentationModel(\n",
        "        model_type=\"bert\",\n",
        "        model_name=\"bert-base-uncased\",\n",
        "        use_cuda=False\n",
        "    )\n",
        "word_vectors = model.encode_sentences(data, combine_strategy=None)# extra 5 points\n",
        "```"
      ]
    },
    {
      "cell_type": "code",
      "metadata": {
        "id": "z9P7l6mXrHW8"
      },
      "source": [
        "#Part 3.2 skip-gram (not used)\n",
        "from gensim.test.utils import common_texts\n",
        "from gensim.models import Word2Vec\n",
        "model = Word2Vec(sentences=data_split,vector_size = 100,window=5, min_count=10, workers=4,sg = 1,negative=8)"
      ],
      "execution_count": null,
      "outputs": []
    },
    {
      "cell_type": "code",
      "metadata": {
        "id": "TLKPjPN3PvKe"
      },
      "source": [
        "#Part 3.1 ngram used\n",
        "#FastText is a improvment of Word2vec using ngram\n",
        "from gensim.models import FastText\n",
        "model = FastText(data_split, vector_size = 100,window=5, workers=4,min_count=10)"
      ],
      "execution_count": 90,
      "outputs": []
    },
    {
      "cell_type": "code",
      "metadata": {
        "id": "B54mhXtbPwQe"
      },
      "source": [
        "#Part 3.3 Bert (not used)\n",
        "from simpletransformers.language_representation import RepresentationModel\n",
        "model = RepresentationModel(\n",
        "        model_type=\"bert\",\n",
        "        model_name=\"bert-base-uncased\",\n",
        "        use_cuda=False\n",
        "    )\n",
        "word_vectors = model.encode_sentences(data, combine_strategy=None)"
      ],
      "execution_count": null,
      "outputs": []
    },
    {
      "cell_type": "code",
      "metadata": {
        "colab": {
          "base_uri": "https://localhost:8080/"
        },
        "id": "zrkWrJ7F_TXg",
        "outputId": "a89b467a-0310-4fd5-d2b8-01cdcf01ee2e"
      },
      "source": [
        "#examples of word and its corresponding representation\n",
        "vector = model.wv['COVID-19']  # numpy vector of a word\n",
        "for i in model.wv.index_to_key[:2]:\n",
        "  print(i)\n",
        "  print(model.wv[i])"
      ],
      "execution_count": 59,
      "outputs": [
        {
          "output_type": "stream",
          "text": [
            "the\n",
            "[-1.0587264  -1.3680474  -0.20679353  0.12640351 -0.01039912 -0.9991065\n",
            " -0.24471034  0.7356631  -0.7252027   0.6895718   0.91151935 -0.37255356\n",
            "  1.0345501   0.38063878  0.42492238  0.8893116   0.29957494  0.2011358\n",
            " -0.44535676 -2.0170074  -0.70955354 -1.1429888   1.2319813   0.5921086\n",
            "  0.22174497  0.265296   -0.09153523  1.044015    0.462838    0.6095131\n",
            "  1.0003302   0.3079491  -0.64068395  0.3455909  -0.7699604   0.46272203\n",
            " -0.5044828   0.18395248 -0.7875808  -0.33232525 -0.3579352   0.2888526\n",
            " -0.4524509   0.2016767   0.84718037 -0.2329513   0.96907836  0.16122746\n",
            "  0.58294743  1.4287692 ]\n",
            "of\n",
            "[-0.81907964 -1.0545354  -0.16500291  0.10073121  0.00231613 -0.7688972\n",
            " -0.19519228  0.5574655  -0.55620307  0.5388122   0.7008296  -0.2933647\n",
            "  0.7995808   0.2826737   0.33811295  0.6918084   0.23507595  0.16381034\n",
            " -0.35043475 -1.5629851  -0.5546112  -0.8680192   0.94803363  0.45467713\n",
            "  0.16692984  0.21642019 -0.06203046  0.80480504  0.35955897  0.464592\n",
            "  0.7738289   0.24468955 -0.49450746  0.27952114 -0.5942912   0.36388677\n",
            " -0.3800499   0.14495027 -0.61437446 -0.25500682 -0.28256097  0.23039272\n",
            " -0.3488298   0.15624723  0.66234666 -0.1771404   0.7477472   0.11300404\n",
            "  0.45286983  1.0936556 ]\n"
          ],
          "name": "stdout"
        }
      ]
    },
    {
      "cell_type": "markdown",
      "metadata": {
        "id": "iMCjN0ZNrHW9"
      },
      "source": [
        "## Part 4 (20%): Explore the Word Representations\n",
        "\n",
        "The following tracks can be finished independently. You are encouraged to divide workload to each team member.\n",
        "\n",
        "### Track 4.1 (5%): Visualise the word representations by t-SNE\n",
        "\n",
        "t-SNE is an algorithm to reduce dimentionality and commonly used to visualise high-dimension vectors. Use t-SNE to visualise the word representations. You may visualise up to 1000 words as t-SNE is highly computationally complex.\n",
        "\n",
        "More about t-SNE: https://lvdmaaten.github.io/tsne/\n",
        "\n",
        "Recommende output:\n",
        "\n",
        "- A diagram by t-SNE based on representations of up to 1000 words.\n",
        "\n",
        "### Track 4.2 (5%): Visualise the Word Representations of Biomedical Entities by t-SNE\n",
        "\n",
        "Instead of visualising the word representations of the entire vocabulary (or 1000 words that are selected at random), visualise the word representations of words which are biomedical entities. For example, fever, cough, diabetes etc. Based on the category of those biomedical entities, can you assign different colours to the entities and see if the entities from the same category can be clustered by t-SNE? For example, sinusitis and cough are both respirtory diseases so they should be assigned with the same colour and ideally their representations should be close to each other by t-SNE. Another example, Alzheimer and headache are neuralogical diseases which should be assigned by another colour.\n",
        "\n",
        "Examples of biomedial ontology: https://www.ebi.ac.uk/ols/ontologies/hp and https://en.wikipedia.org/wiki/International_Classification_of_Diseases\n",
        "\n",
        "Recommende output:\n",
        "\n",
        "- A diagram with colours by t-SNE based on representations of biomedical entities.\n",
        "\n",
        "### Track 4.3 (5%): Co-occurrence\n",
        "\n",
        "- What are the biomedical entities which frequently co-occur with COVID-19 (or coronavirus)?\n",
        "\n",
        "Recommended outputs:\n",
        "\n",
        "- A sorted list of biomedical entities and description on how the entities are selected and sorted.\n",
        "\n",
        "### Track 4.4 (5%): Semantic Similarity\n",
        "\n",
        "- What are the biomedical entities which have closest semantic similarity COVID-19 (or coronavirus) based on word representations?\n",
        "\n",
        "Recommended outputs:\n",
        "\n",
        "- A sorted list of biomedical entities and description on how the entities are selected and sorted.\n",
        "\n",
        "### Open Question (Optional): What else can you discover?\n"
      ]
    },
    {
      "cell_type": "code",
      "metadata": {
        "colab": {
          "base_uri": "https://localhost:8080/",
          "height": 703
        },
        "id": "JDtqdg8CrHW-",
        "outputId": "a21c939e-ba86-4487-ef16-d3fe45b07432"
      },
      "source": [
        "#4.1\n",
        "def reduce_dimensions(model):\n",
        "    num_dimensions = 2  # final num dimensions (2D, 3D, etc)\n",
        "\n",
        "    # extract the first 200 words & their vectors, as numpy arrays\n",
        "\n",
        "    vectors = np.asarray(model.wv.vectors[:200])    #get word vectors\n",
        "    labels = np.asarray(model.wv.index_to_key[:200])  # fixed-width numpy strings\n",
        "\n",
        "    # reduce dimension using t-SNE\n",
        "\n",
        "    tsne = TSNE(n_components=num_dimensions, random_state=0)\n",
        "    vectors = tsne.fit_transform(vectors)\n",
        "\n",
        "    x_vals = [v[0] for v in vectors]\n",
        "    y_vals = [v[1] for v in vectors]\n",
        "    return x_vals, y_vals, labels\n",
        "    \n",
        "def plot_with_matplotlib(x_vals, y_vals, labels):\n",
        "    random.seed(0)\n",
        "    plt.figure(figsize=(12, 12))\n",
        "    plt.scatter(x_vals, y_vals)\n",
        "\n",
        "    # Label randomly subsampled 60 data points\n",
        "\n",
        "    indices = list(range(len(labels)))\n",
        "    selected_indices = random.sample(indices, 60)\n",
        "    for i in selected_indices:\n",
        "        plt.annotate(labels[i], (x_vals[i], y_vals[i]))\n",
        "x_vals, y_vals, labels = reduce_dimensions(model)\n",
        "\n",
        "plot_with_matplotlib(x_vals, y_vals, labels)\n",
        "plt.show()"
      ],
      "execution_count": 91,
      "outputs": [
        {
          "output_type": "display_data",
          "data": {
            "image/png": "[encoded data removed]",
            "text/plain": [
              "<Figure size 864x864 with 1 Axes>"
            ]
          },
          "metadata": {
            "needs_background": "light"
          }
        }
      ]
    },
    {
      "cell_type": "code",
      "metadata": {
        "id": "TdIxNuoTrHW-"
      },
      "source": [
        "#install new tookits to draw entity\n",
        "!pip install scispacy\n",
        "!pip install scispacy\n",
        "!pip install  spacy"
      ],
      "execution_count": null,
      "outputs": []
    },
    {
      "cell_type": "code",
      "metadata": {
        "colab": {
          "base_uri": "https://localhost:8080/"
        },
        "id": "tCoZPRWy7SNU",
        "outputId": "c18db97b-0bb2-49ef-c488-06c8a3473d8c"
      },
      "source": [
        "#!pip install scispacy\n",
        "#!pip install https://s3-us-west-2.amazonaws.com/ai2-s2-scispacy/releases/v0.4.0/en_ner_bionlp13cg_md-0.4.0.tar.gz"
      ],
      "execution_count": null,
      "outputs": [
        {
          "output_type": "stream",
          "text": [
            "\u001b[31mERROR: Could not find a version that satisfies the requirement re (from versions: none)\u001b[0m\n",
            "\u001b[31mERROR: No matching distribution found for re\u001b[0m\n"
          ],
          "name": "stdout"
        }
      ]
    },
    {
      "cell_type": "code",
      "metadata": {
        "id": "VcLGpa4CvRxz"
      },
      "source": [
        "#match entity\n",
        "\n",
        "import scispacy\n",
        "import spacy\n",
        "import copy\n",
        "\n",
        "nlp = spacy.load(\"en_ner_bionlp13cg_md\")#load entity base\n",
        "text =\"\"\n",
        "for i in data:\n",
        "  text = text + i \n",
        "\n",
        "doc = nlp(text[:900000])\n",
        "\n",
        "#create entity string from embedding type\n",
        "ent_str = []\n",
        "sim = []\n",
        "for i in list(doc.ents):\n",
        "  ent_str.append(str(i))\n"
      ],
      "execution_count": 102,
      "outputs": []
    },
    {
      "cell_type": "code",
      "metadata": {
        "colab": {
          "base_uri": "https://localhost:8080/",
          "height": 700
        },
        "id": "C1ZpWsbS96bf",
        "outputId": "4f00dcc4-b0f9-4ee3-8465-377414492934"
      },
      "source": [
        "  #4.2 Use TSNE to represent Biomedical entities\n",
        "  import random\n",
        "  def entity_reduce_dimensions(model):\n",
        "    num_dimensions = 2  # final num dimensions (2D, 3D, etc)\n",
        "\n",
        "    tempa = copy.copy(model.wv.index_to_key[:200])\n",
        "    tempb  =copy.copy(model.wv.vectors[:200].tolist())\n",
        "    for i in tempa:\n",
        "      if i not in  ent_str:#try to delete entity whicn are ot in the lentity ist\n",
        "        del tempb[tempa.index(i)]\n",
        "        del tempa[tempa.index(i)]\n",
        "    \n",
        "    # extract the words & their vectors, as numpy arrays\n",
        "    vectors = np.asarray(tempb)\n",
        "    labels = np.asarray(tempa)  # fixed-width numpy strings\n",
        " \n",
        "     # reduce using t-SNE\n",
        "    tsne = TSNE(n_components=num_dimensions, random_state=0)\n",
        "    vectors = tsne.fit_transform(vectors)\n",
        "\n",
        "    x_vals = [v[0] for v in vectors]\n",
        "    y_vals = [v[1] for v in vectors]\n",
        "    return x_vals, y_vals, labels\n",
        "\n",
        "def plot_entity_with_matplotlib(x_vals, y_vals, labels):\n",
        "\n",
        "    random.seed(101184)\n",
        "\n",
        "    plt.figure(figsize=(12, 12))\n",
        "    plt.scatter(x_vals, y_vals)\n",
        "\n",
        "    #\n",
        "    # Label randomly subsampled 100 data points\n",
        "    #\n",
        "    indices = list(range(len(labels)))\n",
        "    selected_indices = random.sample(indices, 50)\n",
        "    for i in selected_indices:\n",
        "        plt.annotate(labels[i], (x_vals[i], y_vals[i]))\n",
        "x_vals, y_vals, labels = entity_reduce_dimensions(model)\n",
        "\n",
        "plot_entity_with_matplotlib(x_vals, y_vals, labels)\n",
        "plt.show()\n"
      ],
      "execution_count": 105,
      "outputs": [
        {
          "output_type": "display_data",
          "data": {
            "image/png": "[encoded data removed]",
            "text/plain": [
              "<Figure size 864x864 with 1 Axes>"
            ]
          },
          "metadata": {
            "needs_background": "light"
          }
        }
      ]
    },
    {
      "cell_type": "code",
      "metadata": {
        "colab": {
          "base_uri": "https://localhost:8080/"
        },
        "id": "EmtZ_U-OdZCC",
        "outputId": "f722cdc9-c1e4-4eaf-c3d5-9916c37a1343"
      },
      "source": [
        "# 4.4 Find most semantically similar words of a given word\n",
        "result = model.wv.most_similar('coronavirus',topn = 100)\n",
        "for i in result:\n",
        "  if i[0] in ent_str:# find most similar results that in entity list\n",
        "    if i[0] in sim: #avoid repetirepetition \n",
        "      continue\n",
        "    else:\n",
        "      sim.append(i[0].title())# a little farmat using title() \n",
        "      print(i[0].title())\n"
      ],
      "execution_count": 94,
      "outputs": [
        {
          "output_type": "stream",
          "text": [
            "Betacoronavirus\n",
            "Coronavirus\n",
            "Coronaviridae\n",
            "Coronaviruses\n",
            "Papillomavirus\n",
            "Rhinovirus\n",
            "Adenovirus\n",
            "Herpesvirus\n",
            "Virus\n",
            "Sars-Cov\n",
            "Sars-Cov2\n",
            "Mers-Cov\n",
            "Virus-Like\n",
            "Parainfluenza\n",
            "Sars-Cov-2\n"
          ],
          "name": "stdout"
        }
      ]
    },
    {
      "cell_type": "markdown",
      "metadata": {
        "id": "Mg49EgRIrHW_"
      },
      "source": [
        "## Part 5 (Bonus +10%): Open Challenge: Mining Biomedical Knowledge\n",
        "\n",
        "A fundamental task in clinical/biomedical natural language processing is to extract intelligence from biomedical text corpus automatically and efficiently. More specifically, the intelligence may include biomedical entities mentioned in text, relations between biomedical entities, clinical features of patients, progression of diseases, all of which can be used to predict, understand and improve patients' outcomes. \n",
        "\n",
        "This open challenge is to build a biomedical knowledge graph based on the CORD-19 dataset and mine useful information from it. We recommend the following steps but you are also encouraged to develop your solution from scratch.\n",
        "\n",
        "### Extract Biomedical Entities from Text\n",
        "\n",
        "Extract biomedical entities (such as fever, cough, headache, lung cancer, heart attack) from text. Note that:\n",
        "\n",
        "- The biomedical entities may consist of multiple words. For example, heart attack, multiple myeloma etc.\n",
        "- The biomedical entities may be written in synoynms. For example, low blood pressure for hypotension.\n",
        "- The biomedical entities may be written in different forms. For example, smoking, smokes, smoked.\n",
        "\n",
        "### Extract Relations between Biomedical Entities\n",
        "\n",
        "Extract relations between biomedical entities based on their appearance in text. You may define a relation between biomedical entities by one or more of the following criteria:\n",
        "\n",
        "- The biomedical entities frequentely co-occuer together.\n",
        "- The biomedical entities have similar word representations.\n",
        "- The biomedical entities have clear relations based on textual narratives. For example, \"The most common symptoms for COVID-19 are fever and cough\" so we know there are relations between \"COVID-19\", \"fever\" and \"cough\".\n",
        "\n",
        "### Build a Biomedical Knowledge Graph of COVID-19\n",
        "\n",
        "Build a knoweledge graph based on the results from track 5.1 and 5.2 and visualise it."
      ]
    },
    {
      "cell_type": "code",
      "metadata": {
        "id": "u2kCblN2rHW_"
      },
      "source": [
        "###################\n",
        "# TODO: add your solution\n",
        "\n",
        "###################"
      ],
      "execution_count": null,
      "outputs": []
    }
  ]
}